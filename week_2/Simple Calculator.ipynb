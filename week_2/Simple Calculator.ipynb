{
 "cells": [
  {
   "cell_type": "code",
   "execution_count": null,
   "metadata": {},
   "outputs": [],
   "source": [
    "def calculation():\n",
    "    operation = input(\"\"\"\n",
    "    Please type in the operator you want to use\n",
    "    + for addition\n",
    "    - for subtraction\n",
    "    * for multiplication\n",
    "    / for division\n",
    "    \"\"\")\n",
    "    \n",
    "    #Creates two input fields which can accept only integers (ints)\n",
    "    number_1 = int(input(\"Enter first number here: \"))\n",
    "    number_2 = int(input(\"Enter second number here: \"))\n",
    "\n",
    "    if operation == \"+\":\n",
    "        #Addition\n",
    "        print(number_1, \" + \", number_2, \" = \")\n",
    "        print(number_1 + number_2)\n",
    "\n",
    "    elif operation == \"-\":\n",
    "        #Subtraction\n",
    "        print(number_1, \" - \", number_2, \" = \")\n",
    "        print(number_1 - number_2)\n",
    "\n",
    "    elif operation == \"*\":\n",
    "        #Multiplication\n",
    "        print(number_1, \" × \", number_2, \" = \")\n",
    "        print(number_1 * number_2)\n",
    "\n",
    "    elif operation == \"/\":\n",
    "        #Division\n",
    "        print(number_1, \" ÷ \", number_2, \" = \")\n",
    "        print(number_1 / number_2)\n",
    "\n",
    "    else:\n",
    "        #if the operator is invalid or none are entered\n",
    "        print(\"You have not entered a valid operator\")\n",
    "    \n",
    "    again()\n",
    "\n",
    "def again():\n",
    "    \n",
    "    #allows the programme to be run again\n",
    "    calc_again = input(\"\"\"\n",
    "    Do you want to calculate another set of numbers?\n",
    "    Press Y for Yes and N for No.\n",
    "    \"\"\")\n",
    "    \n",
    "    if calc_again == \"y\":\n",
    "        calculation()\n",
    "    elif calc_again == \"n\":\n",
    "        print(\"See you later!\")\n",
    "    else:\n",
    "        again()\n",
    "    \n",
    "calculation()"
   ]
  }
 ],
 "metadata": {
  "kernelspec": {
   "display_name": "Python 3",
   "language": "python",
   "name": "python3"
  },
  "language_info": {
   "codemirror_mode": {
    "name": "ipython",
    "version": 3
   },
   "file_extension": ".py",
   "mimetype": "text/x-python",
   "name": "python",
   "nbconvert_exporter": "python",
   "pygments_lexer": "ipython3",
   "version": "3.7.6"
  }
 },
 "nbformat": 4,
 "nbformat_minor": 4
}
